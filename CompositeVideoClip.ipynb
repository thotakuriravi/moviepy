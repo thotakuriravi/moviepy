{
 "cells": [
  {
   "cell_type": "code",
   "execution_count": 16,
   "metadata": {},
   "outputs": [
    {
     "name": "stdout",
     "output_type": "stream",
     "text": [
      "background_videos/back_video_11.mp4\n",
      "Moviepy - Building video output/moviepy_clips_array.mp4.\n",
      "Moviepy - Writing video output/moviepy_clips_array.mp4\n",
      "\n"
     ]
    },
    {
     "name": "stderr",
     "output_type": "stream",
     "text": [
      "                                                              \r"
     ]
    },
    {
     "name": "stdout",
     "output_type": "stream",
     "text": [
      "Moviepy - Done !\n",
      "Moviepy - video ready output/moviepy_clips_array.mp4\n"
     ]
    }
   ],
   "source": [
    "\n",
    "# ------------  MoviePy CompositeVideoClip\n",
    "\n",
    "\n",
    "import os\n",
    "import random\n",
    "from moviepy.editor import *\n",
    "\n",
    "\n",
    "path = 'background_videos/'   \n",
    "bg_video = os.path.join(path, random.choice(os.listdir(path)))\n",
    "print(bg_video)\n",
    "\n",
    "video = VideoFileClip(bg_video).set_duration(10)\n",
    "\n",
    "\n",
    "images_path = 'background_images/'\n",
    "image_1 = random.choice( os.listdir(images_path))\n",
    "image_2 = random.choice( os.listdir(images_path))\n",
    "image_3 = random.choice( os.listdir(images_path))\n",
    "image_4 = random.choice( os.listdir(images_path))\n",
    "image_5 = random.choice( os.listdir(images_path))\n",
    "\n",
    "image_clip1 = ImageClip(images_path + image_1).set_duration(5).resize((900, 500))\n",
    "image_clip2 = ImageClip(images_path + image_2).set_duration(5).resize((900, 500))\n",
    "image_clip3 = ImageClip(images_path + image_3).set_duration(5).resize((900, 500))\n",
    "image_clip4 = ImageClip(images_path + image_4).set_duration(5).resize((900, 500))\n",
    "image_clip5 = ImageClip(images_path + image_5).set_duration(10).resize((900, 500))\n",
    "\n",
    "image_clip1 = image_clip1.set_position((0, 0)).set_start(3)\n",
    "image_clip2 = image_clip2.set_position((0, int(video.h//2))).set_start(2)\n",
    "image_clip3 = image_clip3.set_position((int(video.w//2), 0)).set_start(5)\n",
    "image_clip4 = image_clip4.set_position((int(video.w//2), int(video.h//2))).set_start(1)\n",
    "image_clip5 = image_clip5.set_position((600, 600)).set_start(0)\n",
    "\n",
    "\n",
    "final_video = CompositeVideoClip([video, image_clip5, image_clip1, image_clip2, image_clip3, image_clip4])\n",
    "\n",
    "final_video.write_videofile('output/moviepy_compositevideoclip.mp4', fps=30, codec='libx264')\n",
    "\n",
    "\n"
   ]
  },
  {
   "cell_type": "code",
   "execution_count": null,
   "metadata": {},
   "outputs": [],
   "source": [
    "# ------------  MoviePy Concatenate_videoclips\n",
    "\n",
    "\n",
    "import os\n",
    "import random\n",
    "from moviepy.editor import *\n",
    "\n",
    "\n",
    "path = 'background_videos/'   \n",
    "bg_video = os.path.join(path, random.choice(os.listdir(path)))\n",
    "print(bg_video)\n",
    "\n",
    "video = VideoFileClip(bg_video).set_duration(10)\n",
    "\n",
    "\n",
    "images_path = 'background_images/'\n",
    "image_1 = random.choice( os.listdir(images_path))\n",
    "image_2 = random.choice( os.listdir(images_path))\n",
    "image_3 = random.choice( os.listdir(images_path))\n",
    "image_4 = random.choice( os.listdir(images_path))\n",
    "image_5 = random.choice( os.listdir(images_path))\n",
    "\n",
    "image_clip1 = ImageClip(images_path + image_1).set_duration(5).resize((900, 500))\n",
    "image_clip2 = ImageClip(images_path + image_2).set_duration(5).resize((900, 500))\n",
    "image_clip3 = ImageClip(images_path + image_3).set_duration(5).resize((900, 500))\n",
    "image_clip4 = ImageClip(images_path + image_4).set_duration(5).resize((900, 500))\n",
    "image_clip5 = ImageClip(images_path + image_5).set_duration(10).resize((900, 500))\n",
    "\n",
    "image_clip1 = image_clip1.set_position((0, 0)).set_start(3)\n",
    "image_clip2 = image_clip2.set_position((0, int(video.h//2))).set_start(2)\n",
    "image_clip3 = image_clip3.set_position((int(video.w//2), 0)).set_start(5)\n",
    "image_clip4 = image_clip4.set_position((int(video.w//2), int(video.h//2))).set_start(1)\n",
    "image_clip5 = image_clip5.set_position((600, 600)).set_start(0)\n",
    "\n",
    "\n",
    "concatenate_video = concatenate_videoclips([image_clip1, image_clip2])\n",
    "concatenate_video.write_videofile('output/moviepy_concat.mp4', fps=30, codec='libx264')\n"
   ]
  }
 ],
 "metadata": {
  "kernelspec": {
   "display_name": "venv",
   "language": "python",
   "name": "python3"
  },
  "language_info": {
   "codemirror_mode": {
    "name": "ipython",
    "version": 3
   },
   "file_extension": ".py",
   "mimetype": "text/x-python",
   "name": "python",
   "nbconvert_exporter": "python",
   "pygments_lexer": "ipython3",
   "version": "3.11.4"
  },
  "orig_nbformat": 4
 },
 "nbformat": 4,
 "nbformat_minor": 2
}
