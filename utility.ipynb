{
 "cells": [
  {
   "cell_type": "code",
   "execution_count": 2,
   "metadata": {},
   "outputs": [
    {
     "name": "stdout",
     "output_type": "stream",
     "text": [
      "46f07318dd7843a9b4e195e7b0571be1\n"
     ]
    }
   ],
   "source": [
    "import uuid\n",
    "\n",
    "# uniq id Generation\n",
    "id = str(uuid.uuid4()).replace('-', '')\n",
    "print(id)"
   ]
  },
  {
   "cell_type": "code",
   "execution_count": 3,
   "metadata": {},
   "outputs": [],
   "source": [
    "import openpyxl as xl\n",
    "# working With Excel Files \n",
    "# excel file creation using python openpyxl\n",
    "workbook = xl.Workbook()\n",
    "workbook_active = workbook.active\n",
    "workbook_active.append([1])\n",
    "workbook.save('data/video_completed_data.xlsx')"
   ]
  },
  {
   "cell_type": "code",
   "execution_count": 4,
   "metadata": {},
   "outputs": [],
   "source": [
    "import openpyxl as xl\n",
    "\n",
    "# append data to the excel file using python openpyxl\n",
    "\n",
    "workbook = xl.load_workbook('data/video_completed_data.xlsx')\n",
    "workbook_active = workbook.active\n",
    "workbook_active.append([2,3])\n",
    "workbook.save('data/video_completed_data.xlsx')"
   ]
  },
  {
   "cell_type": "code",
   "execution_count": 5,
   "metadata": {},
   "outputs": [
    {
     "name": "stdout",
     "output_type": "stream",
     "text": [
      "2\n",
      "2\n"
     ]
    }
   ],
   "source": [
    "import openpyxl as xl\n",
    "import random\n",
    "\n",
    "# read data to the excel file using python openpyxl\n",
    "\n",
    "workbook = xl.load_workbook('data/video_completed_data.xlsx')\n",
    "workbook_active = workbook.active\n",
    "# print(workbook_active.max_column)\n",
    "# print(workbook_active.max_row) # data in between 1, 3\n",
    "\n",
    "index_of_row = random.randint(1, workbook_active.max_row)\n",
    "print(index_of_row)\n",
    "\n",
    "topic = workbook_active.cell(row= index_of_row, column= 1 ).value\n",
    "\n",
    "print(topic)\n"
   ]
  },
  {
   "cell_type": "code",
   "execution_count": 6,
   "metadata": {},
   "outputs": [],
   "source": [
    "import openpyxl as xl\n",
    "\n",
    "# delete data to the excel file using python openpyxl\n",
    "\n",
    "workbook = xl.load_workbook('data/video_completed_data.xlsx')\n",
    "workbook_active = workbook.active\n",
    "workbook_active.delete_rows(2, 1)\n",
    "workbook.save('data/video_completed_data.xlsx')"
   ]
  },
  {
   "cell_type": "code",
   "execution_count": 17,
   "metadata": {},
   "outputs": [
    {
     "data": {
      "text/plain": [
       "'1. The benefits of regular exercise and physical activity\\n2. The importance of a balanced diet and nutritious eating habits\\n3. Mental health and wellbeing: strategies for stress reduction and improving overall mental wellness\\n4. Chronic disease prevention and management (e.g., diabetes, heart disease, etc.)\\n5. The impact of sleep on overall health and strategies for improving sleep quality\\n6. The importance of maintaining a healthy weight and strategies for weight management\\n7. The role of proper hydration in maintaining optimal health and preventing dehydration\\n8. The effects of smoking and harmful substance abuse on health and ways to quit or seek help\\n9. Preventive health screenings and immunizations for various age groups and demographics\\n10. The benefits of positive relationships and social connections on overall health and well-being'"
      ]
     },
     "execution_count": 17,
     "metadata": {},
     "output_type": "execute_result"
    }
   ],
   "source": [
    "import os\n",
    "import openai\n",
    "\n",
    "# interacting with chatGPT using API\n",
    "\n",
    "# Load your API key from an environment variable or secret management service\n",
    "openai.api_key = os.getenv(\"OPENAI_API_KEY\")\n",
    "\n",
    "chat_completion = openai.ChatCompletion.create(model=\"gpt-3.5-turbo\", \n",
    "                                               messages=[{\"role\": \"user\", \n",
    "                                                          \"content\": \"write 10 topics on health\"}])\n",
    "\n",
    "\n",
    "result = chat_completion['choices'][0]['message']['content']\n",
    "\n",
    "result"
   ]
  },
  {
   "cell_type": "code",
   "execution_count": 8,
   "metadata": {},
   "outputs": [
    {
     "name": "stdout",
     "output_type": "stream",
     "text": [
      "1. The importance of eating a balanced diet\n",
      "2. Physical exercise and its impact on overall health\n",
      "3. Environmental factors that affect health\n",
      "4. Mental health and ways to improve it\n",
      "5. Common diseases and their prevention strategies\n",
      "6. The significance of regular health check-ups\n",
      "7. Managing stress and its impact on health\n",
      "8. The benefits of staying hydrated\n",
      "9. The role of sleep in maintaining good health\n",
      "10. Healthy habits for a longer life\n",
      "11. How to prevent and manage chronic diseases\n",
      "12. The effects of smoking on health\n",
      "13. Alcohol consumption and its consequences\n",
      "14. The importance of vaccines and immunizations\n",
      "15. Nutrition during pregnancy and its effects on the baby's health\n",
      "16. Strategies to prevent foodborne illnesses\n",
      "17. Mental health stigma and strategies to combat it\n",
      "18. The impact of air pollution on respiratory health\n",
      "19. How to maintain a healthy weight\n",
      "20. The importance of oral hygiene for overall health\n",
      "21. The benefits of regular physical activity for children\n",
      "22. Strategies to prevent and manage obesity\n",
      "23. The effects of excessive sugar consumption on health\n",
      "24. Healthy eating on a budget\n",
      "25. The role of vitamins and minerals in maintaining good health\n",
      "26. Strategies to improve cardiovascular health\n",
      "27. The dangers of sedentary lifestyle and ways to combat it\n",
      "28. How to prevent and manage allergies\n",
      "29. Caring for our mental health during challenging times\n",
      "30. Strategies for promoting good mental health in the workplace\n",
      "31. The effects of technology on our physical and mental health\n",
      "32. The benefits of meditation and mindfulness for overall well-being\n",
      "33. The impact of social media on mental health\n",
      "34. Gender-specific health issues and preventive measures\n",
      "35. The importance of maintaining good gut health\n",
      "36. Strategies to improve bone health and prevent osteoporosis\n",
      "37. The effects of excessive screen time on children's health\n",
      "38. The connection between oral health and overall well-being\n",
      "39. The role of genetics in determining our health\n",
      "40. Strategies for promoting healthy aging\n",
      "41. The impact of stress on the immune system\n",
      "42. The relationship between mental health and physical health\n",
      "43. The benefits of regular aerobic exercise for cardiovascular health\n",
      "44. The importance of early detection and screening for cancer\n",
      "45. How to prevent and manage diabetes\n",
      "46. The effects of indoor and outdoor pollution on health\n",
      "47. Strategies for reducing the risk of heart disease\n",
      "48. The relationship between sleep disorders and mental health\n",
      "49. The benefits of practicing yoga for physical and mental health\n",
      "50. The role of nutrition in brain health and cognitive function\n",
      "51. The impact of noise pollution on health\n",
      "52. Strategies for improving immune function naturally\n",
      "53. The effects of stress on digestive health\n",
      "54. The importance of proper hand hygiene to prevent illness\n",
      "55. The relationship between exercise and mental well-being\n",
      "56. Strategies for preventing and managing hypertension\n",
      "57. The effects of tobacco on oral health\n",
      "58. Ways to promote better sleep quality\n",
      "59. The benefits of regular strength training for overall health\n",
      "60. The impact of chronic pain on mental health\n",
      "61. Strategies to enhance respiratory health\n",
      "62. The effects of excessive caffeine consumption on health\n",
      "63. The importance of vaccination for children's health\n",
      "64. The role of probiotics in maintaining a healthy gut\n",
      "65. The effects of excessive alcohol consumption on liver health\n",
      "66. Strategies for preventing and managing asthma\n",
      "67. The benefits of a plant-based diet for overall health\n",
      "68. The impact of poor nutrition on child development\n",
      "69. The relationship between mental health and substance abuse\n",
      "70. The effects of excessive salt intake on cardiovascular health\n",
      "71. Strategies for preventing and managing arthritis\n",
      "72. The importance of regular eye exams for maintaining vision health\n",
      "73. The benefits of practicing mindfulness for stress management\n",
      "74. The impact of noise pollution on sleep quality\n",
      "75. The role of exercise in preventing and managing osteoporosis\n",
      "76. Strategies for reducing the risk of stroke\n",
      "77. The effects of excessive fast food consumption on health\n",
      "78. The connection between gut health and immune function\n",
      "79. The benefits of regular stretching exercises for flexibility and muscle health\n",
      "80. The impact of chronic stress on mental health\n",
      "81. Strategies for preventing and managing migraines\n",
      "82. The effects of excessive processed food consumption on health\n",
      "83. The importance of sun protection for skin health\n",
      "84. The role of exercise in preventing and managing depression\n",
      "85. Strategies for reducing the risk of Alzheimer's disease\n",
      "86. The benefits of regular swimming for cardiovascular health\n",
      "87. The impact of social isolation on mental and physical well-being\n",
      "88. The effects of excessive food additives on health\n",
      "89. The connection between sleep and hormonal balance\n",
      "90. Strategies for preventing and managing allergies in children\n",
      "91. The benefits of regular cycling for physical and mental health\n",
      "92. The importance of self-care for overall well-being\n",
      "93. The impact of chronic inflammation on various health conditions\n",
      "94. Strategies for reducing the risk of kidney disease\n",
      "95. The effects of excessive sugar-sweetened beverage consumption on health\n",
      "96. The connection between oral health and heart disease\n",
      "97. The benefits of regular team sports for social and physical health\n",
      "98. The impact of climate change on public health\n",
      "99. Strategies for preventing and managing migraines\n",
      "100. The effects of excessive sitting on musculoskeletal health\n"
     ]
    }
   ],
   "source": [
    "import os\n",
    "import openai\n",
    "\n",
    "# interacting with chatGPT using API\n",
    "\n",
    "# Load your API key from an environment variable or secret management service\n",
    "openai.api_key = os.getenv(\"OPENAI_API_KEY\")\n",
    "\n",
    "chat_completion = openai.ChatCompletion.create(model=\"gpt-3.5-turbo\", \n",
    "                                               messages=[{\"role\": \"user\", \n",
    "                                                          \"content\": \"write 100 topics on health\"}])\n",
    "\n",
    "\n",
    "print(chat_completion['choices'][0]['message']['content'])\n"
   ]
  },
  {
   "cell_type": "code",
   "execution_count": 16,
   "metadata": {},
   "outputs": [],
   "source": [
    "\n",
    "import openpyxl as xl\n",
    "\n",
    "topic = chat_completion['choices'][0]['message']['content']\n",
    "topics = topic.split('\\n')\n",
    "\n",
    "workbook = xl.load_workbook('data/data.xlsx')\n",
    "workbook_active = workbook.active\n",
    "\n",
    "for topic_i in topics:\n",
    "    cleaned_topic = topic_i.split(' ', 1)[1]\n",
    "    workbook_active.append([cleaned_topic])\n",
    "\n",
    "workbook.save('data/data.xlsx')\n"
   ]
  },
  {
   "cell_type": "code",
   "execution_count": 23,
   "metadata": {},
   "outputs": [
    {
     "data": {
      "text/plain": [
       "[\"While some screen time can have educational benefits, prolonged or excessive use can have negative effects on children's health. Here are some of the effects of excessive screen time on children's health:\",\n",
       " 'Physical health problems: A sedentary lifestyle associated with excessive screen time often leads to a lack of physical activity and exercise. This can contribute to obesity and related health issues such as diabetes, cardiovascular diseases, and musculoskeletal problems. Moreover, poor posture while using electronic devices can cause neck and back pain.',\n",
       " \"Reduced sleep quality and quantity: The exposure to screens emitting blue light can interfere with children's sleep patterns. The stimulation from screen time can make it harder for them to fall asleep and get a good night's rest. Lack of adequate sleep can impact their cognitive development, mood, and overall well-being.\",\n",
       " \"Vision problems: Spending too much time focusing on screens can strain children's eyes and lead to problems such as digital eye strain, dry eyes, and nearsightedness. Prolonged screen time can also affect visual processing, depth perception, and eye-hand coordination.\",\n",
       " 'Impaired social skills and emotional health: Excessive screen time can reduce the time children spend engaging in face-to-face social interactions and building interpersonal skills. This can lead to difficulties in forming and maintaining relationships, empathy deficits, and decreased communication abilities. Additionally, excessive screen time has been linked to increased rates of anxiety, depression, and behavioral problems among children.',\n",
       " \"Decreased cognitive development: While some educational content can be found on screens, excessive screen time can negatively impact children's cognitive development and academic performance. Spending too much time in front of screens may limit their engagement in activities that promote problem-solving, critical thinking, creativity, and imagination.\",\n",
       " 'Risky behaviors: Increased exposure to screens, especially through online platforms and social media, can expose children to inappropriate content, cyberbullying, and online predators. Excessive screen time can make children more prone to engage in risky behaviors such as excessive gaming, gambling, or spending excessive time on websites promoting unhealthy habits.',\n",
       " \"To mitigate the effects of excessive screen time on children's health, it is essential to establish and enforce screen time guidelines, encourage a healthy balance between online and offline activities, promote physical exercise and outdoor play, and foster regular face-to-face social interactions.\"]"
      ]
     },
     "execution_count": 23,
     "metadata": {},
     "output_type": "execute_result"
    }
   ],
   "source": [
    "result  = \"Excessive screen time refers to the excessive use of electronic devices such as smartphones, tablets, computers, and televisions. While some screen time can have educational benefits, prolonged or excessive use can have negative effects on children's health. Here are some of the effects of excessive screen time on children's health:\\n\\n1. Physical health problems: A sedentary lifestyle associated with excessive screen time often leads to a lack of physical activity and exercise. This can contribute to obesity and related health issues such as diabetes, cardiovascular diseases, and musculoskeletal problems. Moreover, poor posture while using electronic devices can cause neck and back pain.\\n\\n2. Reduced sleep quality and quantity: The exposure to screens emitting blue light can interfere with children's sleep patterns. The stimulation from screen time can make it harder for them to fall asleep and get a good night's rest. Lack of adequate sleep can impact their cognitive development, mood, and overall well-being.\\n\\n3. Vision problems: Spending too much time focusing on screens can strain children's eyes and lead to problems such as digital eye strain, dry eyes, and nearsightedness. Prolonged screen time can also affect visual processing, depth perception, and eye-hand coordination.\\n\\n4. Impaired social skills and emotional health: Excessive screen time can reduce the time children spend engaging in face-to-face social interactions and building interpersonal skills. This can lead to difficulties in forming and maintaining relationships, empathy deficits, and decreased communication abilities. Additionally, excessive screen time has been linked to increased rates of anxiety, depression, and behavioral problems among children.\\n\\n5. Decreased cognitive development: While some educational content can be found on screens, excessive screen time can negatively impact children's cognitive development and academic performance. Spending too much time in front of screens may limit their engagement in activities that promote problem-solving, critical thinking, creativity, and imagination.\\n\\n6. Risky behaviors: Increased exposure to screens, especially through online platforms and social media, can expose children to inappropriate content, cyberbullying, and online predators. Excessive screen time can make children more prone to engage in risky behaviors such as excessive gaming, gambling, or spending excessive time on websites promoting unhealthy habits.\\n\\nTo mitigate the effects of excessive screen time on children's health, it is essential to establish and enforce screen time guidelines, encourage a healthy balance between online and offline activities, promote physical exercise and outdoor play, and foster regular face-to-face social interactions.\"\n",
    "\n",
    "result = result.replace('\\n\\n', '\\n')\n",
    "\n",
    "final_lines = []\n",
    "for line in result.splitlines():\n",
    "    if '. ' in line:\n",
    "        new_line = line.split('. ', 1)[1]\n",
    "        final_lines.append(new_line)\n",
    "    else:\n",
    "        final_lines.append(line)\n",
    "\n",
    "final_lines"
   ]
  },
  {
   "cell_type": "code",
   "execution_count": null,
   "metadata": {},
   "outputs": [],
   "source": []
  }
 ],
 "metadata": {
  "kernelspec": {
   "display_name": "venv",
   "language": "python",
   "name": "python3"
  },
  "language_info": {
   "codemirror_mode": {
    "name": "ipython",
    "version": 3
   },
   "file_extension": ".py",
   "mimetype": "text/x-python",
   "name": "python",
   "nbconvert_exporter": "python",
   "pygments_lexer": "ipython3",
   "version": "3.11.4"
  },
  "orig_nbformat": 4
 },
 "nbformat": 4,
 "nbformat_minor": 2
}
