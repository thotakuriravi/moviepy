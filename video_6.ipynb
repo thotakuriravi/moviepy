{
 "cells": [
  {
   "cell_type": "code",
   "execution_count": 6,
   "metadata": {},
   "outputs": [],
   "source": [
    "import os \n",
    "\n",
    "path = 'gallery/background_videos/'\n",
    "for i, filename in enumerate(os.listdir(path)):\n",
    "    new_filename = f'back_video_{i+1}.mp4'\n",
    "    os.rename(path + filename, path + new_filename)"
   ]
  },
  {
   "cell_type": "code",
   "execution_count": 13,
   "metadata": {},
   "outputs": [
    {
     "data": {
      "text/plain": [
       "['back_video_6.mp4',\n",
       " 'back_video_5.mp4',\n",
       " 'back_video_9.mp4',\n",
       " 'back_video_13.mp4',\n",
       " 'back_video_7.mp4',\n",
       " 'back_video_12.mp4',\n",
       " 'back_video_1.mp4',\n",
       " 'back_video_5.mp4',\n",
       " 'back_video_1.mp4',\n",
       " 'back_video_13.mp4']"
      ]
     },
     "execution_count": 13,
     "metadata": {},
     "output_type": "execute_result"
    }
   ],
   "source": [
    "import os\n",
    "import random\n",
    "\n",
    "random.choices(os.listdir('gallery/background_videos/'), k=10)"
   ]
  },
  {
   "cell_type": "code",
   "execution_count": 32,
   "metadata": {},
   "outputs": [
    {
     "name": "stdout",
     "output_type": "stream",
     "text": [
      "background_videos\\back_video_7.mp4\n",
      "Moviepy - Building video output/moviepy_video.mp4.\n",
      "Moviepy - Writing video output/moviepy_video.mp4\n",
      "\n"
     ]
    },
    {
     "name": "stderr",
     "output_type": "stream",
     "text": [
      "                                                              \r"
     ]
    },
    {
     "name": "stdout",
     "output_type": "stream",
     "text": [
      "Moviepy - Done !\n",
      "Moviepy - video ready output/moviepy_video.mp4\n"
     ]
    }
   ],
   "source": [
    "from moviepy.editor import *\n",
    "import os\n",
    "import random\n",
    "\n",
    "path = 'gallery/background_videos/'   \n",
    "bg_video = os.path.join(path, random.choice(os.listdir(path)))\n",
    "print(bg_video)\n",
    "\n",
    "video = VideoFileClip(bg_video)\n",
    "video = video.resize((1280, 720))\n",
    "video.write_videofile('output/moviepy_video.mp4', fps=30, codec='libx264')"
   ]
  },
  {
   "cell_type": "code",
   "execution_count": 33,
   "metadata": {},
   "outputs": [
    {
     "name": "stdout",
     "output_type": "stream",
     "text": [
      "background_videos\\back_video_13.mp4\n",
      "Moviepy - Building video output/moviepy_subclip.mp4.\n",
      "Moviepy - Writing video output/moviepy_subclip.mp4\n",
      "\n"
     ]
    },
    {
     "name": "stderr",
     "output_type": "stream",
     "text": [
      "                                                            \r"
     ]
    },
    {
     "name": "stdout",
     "output_type": "stream",
     "text": [
      "Moviepy - Done !\n",
      "Moviepy - video ready output/moviepy_subclip.mp4\n"
     ]
    }
   ],
   "source": [
    "from moviepy.editor import *\n",
    "import os\n",
    "import random\n",
    "\n",
    "path = 'gallery/background_videos/'   \n",
    "bg_video = os.path.join(path, random.choice(os.listdir(path)))\n",
    "print(bg_video)\n",
    "\n",
    "video = VideoFileClip(bg_video).subclip(3,5)\n",
    "video.write_videofile('output/moviepy_subclip.mp4', fps=30, codec='libx264')"
   ]
  },
  {
   "cell_type": "code",
   "execution_count": 35,
   "metadata": {},
   "outputs": [],
   "source": [
    "import os \n",
    "\n",
    "path = 'background_images/'\n",
    "for i, filename in enumerate(os.listdir(path)):\n",
    "    new_filename = f'image_{i+1}.jpg'\n",
    "    os.rename(path + filename, path + new_filename)"
   ]
  },
  {
   "cell_type": "code",
   "execution_count": 38,
   "metadata": {},
   "outputs": [
    {
     "name": "stdout",
     "output_type": "stream",
     "text": [
      "Moviepy - Building video output/moviepy_video_from_images.mp4.\n",
      "Moviepy - Writing video output/moviepy_video_from_images.mp4\n",
      "\n"
     ]
    },
    {
     "name": "stderr",
     "output_type": "stream",
     "text": [
      "                                                              \r"
     ]
    },
    {
     "name": "stdout",
     "output_type": "stream",
     "text": [
      "Moviepy - Done !\n",
      "Moviepy - video ready output/moviepy_video_from_images.mp4\n"
     ]
    }
   ],
   "source": [
    "import os\n",
    "import random   \n",
    "from moviepy.editor import *\n",
    "\n",
    "images_path = 'background_images/'\n",
    "\n",
    "# bg_images = random.choices( os.listdir(images_path) , k=3)\n",
    "\n",
    "# image_clip1 = ImageClip(images_path + bg_images[0])\n",
    "# image_clip2 = ImageClip(images_path + bg_images[1])\n",
    "# image_clip3 = ImageClip(images_path + bg_images[2])\n",
    "\n",
    "image_1 = random.choice( os.listdir(images_path))\n",
    "image_2 = random.choice( os.listdir(images_path))\n",
    "image_3 = random.choice( os.listdir(images_path))\n",
    "\n",
    "image_clip1 = ImageClip(images_path + image_1)\n",
    "image_clip2 = ImageClip(images_path + image_2)\n",
    "image_clip3 = ImageClip(images_path + image_3)\n",
    "\n",
    "image_clip1 = image_clip1.set_duration(15)\n",
    "image_clip2 = image_clip2.set_duration(2)\n",
    "image_clip3 = image_clip3.set_duration(1)\n",
    "\n",
    "final_video = concatenate_videoclips([image_clip1, image_clip2, image_clip3]).resize((3840, 2160))\n",
    "\n",
    "\n",
    "\n",
    "final_video.write_videofile('output/moviepy_video_from_images.mp4', fps=30, codec= 'libx264')"
   ]
  },
  {
   "cell_type": "code",
   "execution_count": 51,
   "metadata": {},
   "outputs": [
    {
     "name": "stdout",
     "output_type": "stream",
     "text": [
      "background_videos\\back_video_6.mp4\n"
     ]
    },
    {
     "data": {
      "text/plain": [
       "35.0"
      ]
     },
     "execution_count": 51,
     "metadata": {},
     "output_type": "execute_result"
    }
   ],
   "source": [
    "from moviepy.editor import *\n",
    "import os\n",
    "import random\n",
    "\n",
    "path = 'gallery/background_videos/'   \n",
    "bg_video = os.path.join(path, random.choice(os.listdir(path)))\n",
    "print(bg_video)\n",
    "\n",
    "video = VideoFileClip(bg_video)\n",
    "\n",
    "video.duration\n"
   ]
  },
  {
   "cell_type": "code",
   "execution_count": 49,
   "metadata": {},
   "outputs": [
    {
     "name": "stdout",
     "output_type": "stream",
     "text": [
      "MoviePy - Building file output/moviepy_video_to_gif.gif with imageio.\n"
     ]
    },
    {
     "name": "stderr",
     "output_type": "stream",
     "text": [
      "                                                               \r"
     ]
    }
   ],
   "source": [
    "video.write_gif('output/moviepy_video_to_gif.gif', fps=30)"
   ]
  },
  {
   "cell_type": "code",
   "execution_count": 52,
   "metadata": {},
   "outputs": [
    {
     "ename": "AttributeError",
     "evalue": "'NoneType' object has no attribute 'write_audiofile'",
     "output_type": "error",
     "traceback": [
      "\u001b[1;31m---------------------------------------------------------------------------\u001b[0m",
      "\u001b[1;31mAttributeError\u001b[0m                            Traceback (most recent call last)",
      "Cell \u001b[1;32mIn[52], line 1\u001b[0m\n\u001b[1;32m----> 1\u001b[0m video\u001b[39m.\u001b[39;49maudio\u001b[39m.\u001b[39;49mwrite_audiofile(\u001b[39m'\u001b[39m\u001b[39moutput/moviepy_audio_from_video.mp3\u001b[39m\u001b[39m'\u001b[39m)\n",
      "\u001b[1;31mAttributeError\u001b[0m: 'NoneType' object has no attribute 'write_audiofile'"
     ]
    }
   ],
   "source": [
    "video.audio.write_audiofile('output/moviepy_audio_from_video.mp3')"
   ]
  },
  {
   "cell_type": "code",
   "execution_count": 53,
   "metadata": {},
   "outputs": [
    {
     "name": "stdout",
     "output_type": "stream",
     "text": [
      "MoviePy - Writing audio in output/moviepy_audio_from_video.mp3\n"
     ]
    },
    {
     "name": "stderr",
     "output_type": "stream",
     "text": [
      "                                                                  "
     ]
    },
    {
     "name": "stdout",
     "output_type": "stream",
     "text": [
      "MoviePy - Done.\n"
     ]
    },
    {
     "name": "stderr",
     "output_type": "stream",
     "text": [
      "\r"
     ]
    }
   ],
   "source": [
    "\n",
    "\n",
    "\n",
    "from moviepy.editor import VideoFileClip\n",
    "\n",
    "video = VideoFileClip('videos/intro.mp4')\n",
    "\n",
    "video.audio.write_audiofile('output/moviepy_audio_from_video.mp3')"
   ]
  }
 ],
 "metadata": {
  "kernelspec": {
   "display_name": "venv",
   "language": "python",
   "name": "python3"
  },
  "language_info": {
   "codemirror_mode": {
    "name": "ipython",
    "version": 3
   },
   "file_extension": ".py",
   "mimetype": "text/x-python",
   "name": "python",
   "nbconvert_exporter": "python",
   "pygments_lexer": "ipython3",
   "version": "3.11.4"
  },
  "orig_nbformat": 4
 },
 "nbformat": 4,
 "nbformat_minor": 2
}
